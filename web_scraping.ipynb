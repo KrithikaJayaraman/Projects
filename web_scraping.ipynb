{
 "cells": [
  {
   "cell_type": "code",
   "execution_count": 2,
   "metadata": {},
   "outputs": [],
   "source": [
    "import requests\n",
    "import urllib.request\n",
    "import time\n",
    "import re\n",
    "from bs4 import BeautifulSoup"
   ]
  },
  {
   "cell_type": "code",
   "execution_count": 3,
   "metadata": {},
   "outputs": [
    {
     "data": {
      "text/plain": [
       "<Response [200]>"
      ]
     },
     "execution_count": 3,
     "metadata": {},
     "output_type": "execute_result"
    }
   ],
   "source": [
    "url = 'http://web.mta.info/developers/turnstile.html'\n",
    "response = requests.get(url)\n",
    "response"
   ]
  },
  {
   "cell_type": "code",
   "execution_count": 5,
   "metadata": {},
   "outputs": [
    {
     "data": {
      "text/plain": [
       "'data/nyct/turnstile/turnstile_191221.txt'"
      ]
     },
     "execution_count": 5,
     "metadata": {},
     "output_type": "execute_result"
    }
   ],
   "source": [
    "soup = BeautifulSoup(response.text, \"html.parser\")\n",
    "soup.find_all('a', string = 'turnstile_191221')\n",
    "req_line = soup.select('a[href$=\"turnstile_191221.txt\"]')\n",
    "req_line\n",
    "\n",
    "#Method 2\n",
    "link_with_text = soup.findAll('a', href=re.compile('turnstile_191221.txt$'))\n",
    "type(link_with_text)\n",
    "\n",
    "link = link_with_text[0]['href']\n",
    "link\n",
    "\n",
    "#To extract .string attribute of a tag\n",
    "#[link.string for link in soup.find_all('a', href=re.compile('turnstile_191221.txt$'))]\n",
    "#Outputs Saturday, December 21"
   ]
  },
  {
   "cell_type": "code",
   "execution_count": 93,
   "metadata": {},
   "outputs": [],
   "source": [
    "#Pausing the code for 1 or 2 second so that we are spamming the website with requests\n",
    "time.sleep(2)\n",
    "download_url = 'http://web.mta.info/developers/' + link\n",
    "urllib.request.urlretrieve(download_url,'./' + link.split('/')[-1]) \n",
    "#download_url,'./' + link[link.find('/turnstile_')+1:] -- Alternatively extracts and stores the file in the base directory\n",
    "#local, headers = urllib.request.urlretrieve(download_url)\n",
    "time.sleep(2)\n",
    "#html = open(local)\n",
    "#html\n"
   ]
  },
  {
   "cell_type": "code",
   "execution_count": 83,
   "metadata": {},
   "outputs": [
    {
     "data": {
      "text/plain": [
       "'C:\\\\Users\\\\Rajesh'"
      ]
     },
     "execution_count": 83,
     "metadata": {},
     "output_type": "execute_result"
    }
   ],
   "source": [
    "pwd"
   ]
  },
  {
   "cell_type": "code",
   "execution_count": 84,
   "metadata": {},
   "outputs": [
    {
     "data": {
      "text/plain": [
       "'http://web.mta.info/developers/data/nyct/turnstile/turnstile_191221.txt'"
      ]
     },
     "execution_count": 84,
     "metadata": {},
     "output_type": "execute_result"
    }
   ],
   "source": [
    "download_url"
   ]
  },
  {
   "cell_type": "code",
   "execution_count": 85,
   "metadata": {},
   "outputs": [
    {
     "data": {
      "text/plain": [
       "('http://web.mta.info/developers/data/nyct/turnstile/turnstile_191221.txt',\n",
       " './turnstile_191221.txt')"
      ]
     },
     "execution_count": 85,
     "metadata": {},
     "output_type": "execute_result"
    }
   ],
   "source": [
    "download_url,'./' + link[link.find('/turnstile_')+1:]"
   ]
  },
  {
   "cell_type": "code",
   "execution_count": 87,
   "metadata": {},
   "outputs": [
    {
     "data": {
      "text/plain": [
       "'turnstile_191221.txt'"
      ]
     },
     "execution_count": 87,
     "metadata": {},
     "output_type": "execute_result"
    }
   ],
   "source": [
    "link[link.find('/turnstile_')+1:]"
   ]
  },
  {
   "cell_type": "code",
   "execution_count": 91,
   "metadata": {},
   "outputs": [
    {
     "data": {
      "text/plain": [
       "'turnstile_191221.txt'"
      ]
     },
     "execution_count": 91,
     "metadata": {},
     "output_type": "execute_result"
    }
   ],
   "source": [
    "link[link.find('/turnstile_')+1:]"
   ]
  },
  {
   "cell_type": "code",
   "execution_count": 92,
   "metadata": {},
   "outputs": [
    {
     "data": {
      "text/plain": [
       "'turnstile_191221.txt'"
      ]
     },
     "execution_count": 92,
     "metadata": {},
     "output_type": "execute_result"
    }
   ],
   "source": [
    "link.split('/')[-1]"
   ]
  },
  {
   "cell_type": "code",
   "execution_count": null,
   "metadata": {},
   "outputs": [],
   "source": []
  }
 ],
 "metadata": {
  "kernelspec": {
   "display_name": "Python 3",
   "language": "python",
   "name": "python3"
  },
  "language_info": {
   "codemirror_mode": {
    "name": "ipython",
    "version": 3
   },
   "file_extension": ".py",
   "mimetype": "text/x-python",
   "name": "python",
   "nbconvert_exporter": "python",
   "pygments_lexer": "ipython3",
   "version": "3.7.0"
  }
 },
 "nbformat": 4,
 "nbformat_minor": 2
}
