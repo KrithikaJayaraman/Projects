{
 "cells": [
  {
   "cell_type": "code",
   "execution_count": 9,
   "metadata": {},
   "outputs": [
    {
     "name": "stdout",
     "output_type": "stream",
     "text": [
      "[nltk_data] Downloading package punkt to\n",
      "[nltk_data]     C:\\Users\\Rajesh\\AppData\\Roaming\\nltk_data...\n",
      "[nltk_data]   Unzipping tokenizers\\punkt.zip.\n"
     ]
    },
    {
     "data": {
      "text/plain": [
       "True"
      ]
     },
     "execution_count": 9,
     "metadata": {},
     "output_type": "execute_result"
    }
   ],
   "source": [
    "from newspaper import Article\n",
    "import nltk\n",
    "nltk.download('punkt')"
   ]
  },
  {
   "cell_type": "code",
   "execution_count": 2,
   "metadata": {},
   "outputs": [],
   "source": [
    "url = 'https://www.reuters.com/article/us-indianocean-tsunami/im-still-scared-asia-remembers-tsunami-that-killed-230000-idUSKBN1YU05L'\n"
   ]
  },
  {
   "cell_type": "code",
   "execution_count": 3,
   "metadata": {},
   "outputs": [],
   "source": [
    "reuter_article = Article(url, language = 'en')"
   ]
  },
  {
   "cell_type": "code",
   "execution_count": 4,
   "metadata": {},
   "outputs": [],
   "source": [
    "reuter_article.download()"
   ]
  },
  {
   "cell_type": "code",
   "execution_count": 5,
   "metadata": {},
   "outputs": [],
   "source": [
    "reuter_article.parse()"
   ]
  },
  {
   "cell_type": "code",
   "execution_count": 10,
   "metadata": {},
   "outputs": [],
   "source": [
    "reuter_article.nlp()"
   ]
  },
  {
   "cell_type": "code",
   "execution_count": 13,
   "metadata": {},
   "outputs": [
    {
     "name": "stdout",
     "output_type": "stream",
     "text": [
      "Article's Title:\n",
      "'I'm still scared' - Asia remembers tsunami that killed 230,000\n",
      "\n",
      "\n"
     ]
    }
   ],
   "source": [
    "print(\"Article's Title:\") \n",
    "print(reuter_article.title) \n",
    "print(\"\\n\") \n",
    "  \n"
   ]
  },
  {
   "cell_type": "code",
   "execution_count": 14,
   "metadata": {},
   "outputs": [
    {
     "name": "stdout",
     "output_type": "stream",
     "text": [
      "Article's Summary:\n",
      "PHANG NGA, Thailand (Reuters) - Communities across Asia commemorated the more than 230,000 victims of the Indian Ocean tsunami on Thursday, the 15th anniversary of one of the world’s most deadly disasters.\n",
      "GRAPHIC: Waves of devastation - here“It still haunts me … I can remember it all the time,” said Suwannee Maliwan, 28, who lost both parents and five other relatives when the tsunami hit the Thai province of Phang Nga.\n",
      "Officials later laid wreaths at a memorial center in Phang Nga province to pay tribute to King Maha Vajiralongkorn’s nephew, Bhumi Jensen, who was last seen jet-skiing off the coast when the tsunami hit.\n",
      "Survivors from Ban Nam Khem, the worst hit Thai village, will hold a candlelight vigil in the evening.\n",
      "In India, where more than 10,000 people died in the tsunami, survivors also were to hold memorial ceremonies.\n",
      "\n",
      "\n",
      "Article's Keywords:\n",
      "['230000', 'province', 'thai', 'im', 'waves', 'phang', 'remembers', 'killed', 'thailand', 'sri', 'nga', 'asia', 'tsunami', 'victims', 'scared', 'memorial']\n"
     ]
    }
   ],
   "source": [
    " \n",
    "#To extract summary \n",
    "print(\"Article's Summary:\") \n",
    "print(reuter_article.summary) \n",
    "print(\"\\n\") \n",
    "  \n",
    "#To extract keywords \n",
    "print(\"Article's Keywords:\") \n",
    "print(reuter_article.keywords) "
   ]
  },
  {
   "cell_type": "code",
   "execution_count": null,
   "metadata": {},
   "outputs": [],
   "source": []
  }
 ],
 "metadata": {
  "kernelspec": {
   "display_name": "Python 3",
   "language": "python",
   "name": "python3"
  },
  "language_info": {
   "codemirror_mode": {
    "name": "ipython",
    "version": 3
   },
   "file_extension": ".py",
   "mimetype": "text/x-python",
   "name": "python",
   "nbconvert_exporter": "python",
   "pygments_lexer": "ipython3",
   "version": "3.7.0"
  }
 },
 "nbformat": 4,
 "nbformat_minor": 2
}
